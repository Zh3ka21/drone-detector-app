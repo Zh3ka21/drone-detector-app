{
 "cells": [
  {
   "cell_type": "markdown",
   "source": [
    "# Search and download video from YouTube"
   ],
   "metadata": {
    "collapsed": false
   },
   "id": "3a18f2b94a2a8a96"
  },
  {
   "cell_type": "markdown",
   "source": [
    "## Import moduls for dataset export"
   ],
   "metadata": {
    "collapsed": false
   },
   "id": "c7bf4591ed457825"
  },
  {
   "cell_type": "code",
   "execution_count": null,
   "id": "initial_id",
   "metadata": {
    "collapsed": true
   },
   "outputs": [],
   "source": [
    "from src.settings import JsonSettings\n",
    "from src.youtube_service_fabric import YoutubeServiceFabric"
   ]
  },
  {
   "cell_type": "markdown",
   "source": [
    "## Configurate settings"
   ],
   "metadata": {
    "collapsed": false
   },
   "id": "53d6d880837c8540"
  },
  {
   "cell_type": "code",
   "outputs": [],
   "source": [
    "data_folder = \".\\data\"\n",
    "settings_file_name = \"settings.json\"\n",
    "settings = JsonSettings(data_folder, settings_file_name)"
   ],
   "metadata": {
    "collapsed": false
   },
   "id": "ae080df8e38b2a13",
   "execution_count": null
  },
  {
   "cell_type": "markdown",
   "source": [
    "## Creating a service and run"
   ],
   "metadata": {
    "collapsed": false
   },
   "id": "61273e6e73b0df7a"
  },
  {
   "cell_type": "code",
   "outputs": [],
   "source": [
    "service = YoutubeServiceFabric(settings.api_key,\n",
    "                               settings.query,\n",
    "                               settings.json_path,\n",
    "                               settings.download_path,\n",
    "                               settings.threads).build(settings.type)\n",
    "\n",
    "service.execute()"
   ],
   "metadata": {
    "collapsed": false
   },
   "id": "921331b5c6cfeff3",
   "execution_count": null
  }
 ],
 "metadata": {
  "kernelspec": {
   "display_name": "Python 3",
   "language": "python",
   "name": "python3"
  },
  "language_info": {
   "codemirror_mode": {
    "name": "ipython",
    "version": 2
   },
   "file_extension": ".py",
   "mimetype": "text/x-python",
   "name": "python",
   "nbconvert_exporter": "python",
   "pygments_lexer": "ipython2",
   "version": "2.7.6"
  }
 },
 "nbformat": 4,
 "nbformat_minor": 5
}
