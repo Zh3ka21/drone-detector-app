{
 "cells": [
  {
   "cell_type": "markdown",
   "id": "8f015529cf8d1cd9",
   "metadata": {
    "collapsed": false
   },
   "source": [
    "## Import moduls for dataset export"
   ]
  },
  {
   "cell_type": "code",
   "execution_count": 1,
   "id": "7d08e5ab9d6e1a6a",
   "metadata": {
    "collapsed": false
   },
   "outputs": [
    {
     "name": "stderr",
     "output_type": "stream",
     "text": [
      "e:\\KHPI\\DiplomaPaper\\DroneDetector\\.venv\\lib\\site-packages\\tqdm\\auto.py:21: TqdmWarning: IProgress not found. Please update jupyter and ipywidgets. See https://ipywidgets.readthedocs.io/en/stable/user_install.html\n",
      "  from .autonotebook import tqdm as notebook_tqdm\n"
     ]
    },
    {
     "data": {
      "text/plain": [
       "True"
      ]
     },
     "execution_count": 1,
     "metadata": {},
     "output_type": "execute_result"
    }
   ],
   "source": [
    "from extractor.task_list import TaskList\n",
    "from extractor.task_exporter import TaskExporter\n",
    "from extractor.reformat_tasks import extract_numbers, extract_numbers_for, subtract_files\n",
    "\n",
    "import os\n",
    "from dotenv import load_dotenv\n",
    "load_dotenv()"
   ]
  },
  {
   "cell_type": "markdown",
   "id": "fe8361a07c38db12",
   "metadata": {
    "collapsed": false
   },
   "source": [
    "## User configurations"
   ]
  },
  {
   "cell_type": "code",
   "execution_count": 2,
   "id": "327eec41b46bcaaa",
   "metadata": {
    "collapsed": false
   },
   "outputs": [],
   "source": [
    "cvat_url = os.getenv(\"cvat_url\")\n",
    "cvat_user = os.getenv(\"cvat_user\")\n",
    "cvat_password = os.getenv(\"cvat_password\")\n",
    "organization = os.getenv(\"organization\")"
   ]
  },
  {
   "cell_type": "markdown",
   "id": "84caf8b8befff4b3",
   "metadata": {
    "collapsed": false
   },
   "source": [
    "## Path configuration"
   ]
  },
  {
   "cell_type": "code",
   "execution_count": 3,
   "id": "initial_id",
   "metadata": {
    "collapsed": true
   },
   "outputs": [],
   "source": [
    "# extract_numbers_for(\n",
    "#     input_file=\"error_download_tasks.txt\",\n",
    "#     output_file=\"notdownloaded.txt\"\n",
    "# )\n",
    "\n",
    "output_dataset_dir = r\"E:\\KHPI\\DiplomaPaper\\DataSetNotErrors\"\n",
    "task_file_path= r\"notdownloaded.txt\"\n",
    "\n",
    "are_errors=True\n",
    "error_file_path=r\"error_download_tasks.txt\"\n",
    "\n",
    "# Format: \"coco\" or \"yolo\"\n",
    "export_format = \"coco\""
   ]
  },
  {
   "cell_type": "markdown",
   "id": "d5d5f3fd5f13b5c1",
   "metadata": {
    "collapsed": false
   },
   "source": [
    "## Configurate task list service"
   ]
  },
  {
   "cell_type": "code",
   "execution_count": 5,
   "id": "9fe0e208dbcc0e19",
   "metadata": {
    "collapsed": false
   },
   "outputs": [
    {
     "data": {
      "text/plain": [
       "<extractor.task_list.TaskList at 0x236bb465f00>"
      ]
     },
     "execution_count": 5,
     "metadata": {},
     "output_type": "execute_result"
    }
   ],
   "source": [
    "# TODO: check work on linux\n",
    "task_list = TaskList()\n",
    "\n",
    "task_list.with_user(cvat_url, cvat_user, cvat_password, organization) \n",
    "task_list.load_from(task_file_path)\n",
    "task_list.batched_on(4) \n",
    "#task_list.save_to(task_file_path)"
   ]
  },
  {
   "cell_type": "markdown",
   "id": "b12ea9c4932e3aa4",
   "metadata": {
    "collapsed": false
   },
   "source": [
    "## Configurate task exporter"
   ]
  },
  {
   "cell_type": "code",
   "execution_count": 6,
   "id": "67405516af403d06",
   "metadata": {
    "collapsed": false
   },
   "outputs": [
    {
     "data": {
      "text/plain": [
       "<extractor.task_exporter.TaskExporter at 0x236c3abc1c0>"
      ]
     },
     "execution_count": 6,
     "metadata": {},
     "output_type": "execute_result"
    }
   ],
   "source": [
    "task_exporter = TaskExporter()\n",
    "\n",
    "task_exporter.with_user(cvat_url, cvat_user, cvat_password, organization) \n",
    "task_exporter.with_format(export_format) \n",
    "#task_exporter.with_images()"
   ]
  },
  {
   "cell_type": "markdown",
   "id": "228bfc7bea87567a",
   "metadata": {
    "collapsed": false
   },
   "source": [
    "## Run task export"
   ]
  },
  {
   "cell_type": "code",
   "execution_count": null,
   "id": "1e9ee5fcaa00d0be",
   "metadata": {
    "collapsed": false
   },
   "outputs": [],
   "source": [
    "def get_tasks_list(str_tasks: str):\n",
    "    task_list = list(map(int, filter(None, str_tasks.split(\" \"))))\n",
    "    return task_list\n",
    "\n",
    "if are_errors:\n",
    "    task_file_path = subtract_files(task_file_path, error_file_path, \"no_error_file.txt\")\n",
    "\n",
    "with open(task_file_path) as tasks_file:\n",
    "    for tasks_str in tasks_file:\n",
    "        task_list = get_tasks_list(tasks_str)\n",
    "        task_exporter.export_data(task_list, output_dataset_dir)\n",
    "\n",
    "task_exporter.close_pool()     "
   ]
  }
 ],
 "metadata": {
  "kernelspec": {
   "display_name": ".venv",
   "language": "python",
   "name": "python3"
  },
  "language_info": {
   "codemirror_mode": {
    "name": "ipython",
    "version": 3
   },
   "file_extension": ".py",
   "mimetype": "text/x-python",
   "name": "python",
   "nbconvert_exporter": "python",
   "pygments_lexer": "ipython3",
   "version": "3.10.2"
  }
 },
 "nbformat": 4,
 "nbformat_minor": 5
}
