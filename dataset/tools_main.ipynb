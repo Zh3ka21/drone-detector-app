{
 "cells": [
  {
   "cell_type": "markdown",
   "source": [
    "## Split dataset util"
   ],
   "metadata": {
    "collapsed": false
   },
   "id": "18960e5133c8c402"
  },
  {
   "cell_type": "code",
   "execution_count": 2,
   "id": "initial_id",
   "metadata": {
    "collapsed": true,
    "ExecuteTime": {
     "end_time": "2024-11-20T14:05:27.356412600Z",
     "start_time": "2024-11-20T14:05:27.347898300Z"
    }
   },
   "outputs": [],
   "source": [
    "input_folder = \"D:\\Datasets\\YoloDrone\"\n",
    "output_folder = \"D:\\Datasets\\YoloDroneSplit\"\n",
    "\n",
    "train, val, test = ratio = (0.75, 0.15, 0.1)"
   ]
  },
  {
   "cell_type": "code",
   "outputs": [
    {
     "name": "stdout",
     "output_type": "stream",
     "text": [
      "Dataset successfully shuffled and split!\n",
      "Training set: 150 folders\n",
      "Validation set: 30 folders\n",
      "Test set: 20 folders\n"
     ]
    }
   ],
   "source": [
    "from tools.split_dataset import DatasetSplitter\n",
    "\n",
    "splitter = DatasetSplitter(\n",
    "    input_folder=input_folder,\n",
    "    output_folder=output_folder,\n",
    "    train_ratio=train,\n",
    "    val_ratio=val,\n",
    "    test_ratio=test\n",
    ")\n",
    "\n",
    "splitter.split()"
   ],
   "metadata": {
    "collapsed": false,
    "ExecuteTime": {
     "end_time": "2024-11-20T14:26:40.929296Z",
     "start_time": "2024-11-20T14:05:29.737690Z"
    }
   },
   "id": "feb0b5c3a0456b38",
   "execution_count": 3
  },
  {
   "cell_type": "markdown",
   "source": [
    "## Data aggregation tool"
   ],
   "metadata": {
    "collapsed": false
   },
   "id": "b5b3f362f3666cbb"
  },
  {
   "cell_type": "code",
   "outputs": [],
   "source": [
    "input_aggregation_folder = \"D:\\Datasets\\YoloDroneSplit\"\n",
    "output_aggregation_folder = \"D:\\Datasets\\YoloDroneAll\""
   ],
   "metadata": {
    "collapsed": false,
    "ExecuteTime": {
     "end_time": "2024-11-21T19:59:50.449549200Z",
     "start_time": "2024-11-21T19:59:50.437600900Z"
    }
   },
   "id": "de5772390cd8c0e5",
   "execution_count": 2
  },
  {
   "cell_type": "code",
   "outputs": [],
   "source": [
    "from tools.aggregation_dataset import DatasetAggregator\n",
    "\n",
    "aggregator = DatasetAggregator(\n",
    "    input_folder=input_aggregation_folder,\n",
    "    output_folder=output_aggregation_folder\n",
    ")\n",
    "\n",
    "aggregator.aggregate()"
   ],
   "metadata": {
    "collapsed": false,
    "ExecuteTime": {
     "end_time": "2024-11-21T20:27:39.810160800Z",
     "start_time": "2024-11-21T19:59:55.211803100Z"
    }
   },
   "id": "a39c67c730986d20",
   "execution_count": 3
  }
 ],
 "metadata": {
  "kernelspec": {
   "display_name": "Python 3",
   "language": "python",
   "name": "python3"
  },
  "language_info": {
   "codemirror_mode": {
    "name": "ipython",
    "version": 2
   },
   "file_extension": ".py",
   "mimetype": "text/x-python",
   "name": "python",
   "nbconvert_exporter": "python",
   "pygments_lexer": "ipython2",
   "version": "2.7.6"
  }
 },
 "nbformat": 4,
 "nbformat_minor": 5
}
