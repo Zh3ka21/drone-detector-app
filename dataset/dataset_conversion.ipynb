{
 "cells": [
  {
   "cell_type": "code",
   "execution_count": 1,
   "metadata": {},
   "outputs": [],
   "source": [
    "from tools.dataset_converters import YoloToCoco"
   ]
  },
  {
   "cell_type": "code",
   "execution_count": 2,
   "metadata": {},
   "outputs": [],
   "source": [
    "dataset_path = r\"E:\\KHPI\\DiplomaPaper\\Tests\"\n",
    "output_path = r\"E:\\KHPI\\DiplomaPaper\\GloboxGT\""
   ]
  },
  {
   "cell_type": "code",
   "execution_count": 3,
   "metadata": {},
   "outputs": [
    {
     "name": "stderr",
     "output_type": "stream",
     "text": [
      "Processing task_150: 110it [00:00, 3617.45it/s]\n"
     ]
    },
    {
     "name": "stdout",
     "output_type": "stream",
     "text": [
      "COCO annotations saved at E:\\KHPI\\DiplomaPaper\\GloboxGT\\task_150\\task_150_coco.json\n"
     ]
    },
    {
     "name": "stderr",
     "output_type": "stream",
     "text": [
      "Processing task_152: 219it [00:00, 2887.74it/s]\n"
     ]
    },
    {
     "name": "stdout",
     "output_type": "stream",
     "text": [
      "COCO annotations saved at E:\\KHPI\\DiplomaPaper\\GloboxGT\\task_152\\task_152_coco.json\n"
     ]
    },
    {
     "name": "stderr",
     "output_type": "stream",
     "text": [
      "Processing task_153: 75it [00:00, 4426.55it/s]\n"
     ]
    },
    {
     "name": "stdout",
     "output_type": "stream",
     "text": [
      "COCO annotations saved at E:\\KHPI\\DiplomaPaper\\GloboxGT\\task_153\\task_153_coco.json\n"
     ]
    }
   ],
   "source": [
    "converter = YoloToCoco(dataset_path, output_path)\n",
    "converter.convert()"
   ]
  },
  {
   "cell_type": "code",
   "execution_count": null,
   "metadata": {},
   "outputs": [],
   "source": []
  }
 ],
 "metadata": {
  "kernelspec": {
   "display_name": ".venv",
   "language": "python",
   "name": "python3"
  },
  "language_info": {
   "codemirror_mode": {
    "name": "ipython",
    "version": 3
   },
   "file_extension": ".py",
   "mimetype": "text/x-python",
   "name": "python",
   "nbconvert_exporter": "python",
   "pygments_lexer": "ipython3",
   "version": "3.10.2"
  }
 },
 "nbformat": 4,
 "nbformat_minor": 2
}
