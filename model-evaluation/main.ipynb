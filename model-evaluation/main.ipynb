{
 "cells": [
  {
   "cell_type": "markdown",
   "metadata": {},
   "source": [
    "##### Path configuration"
   ]
  },
  {
   "cell_type": "code",
   "execution_count": 5,
   "metadata": {},
   "outputs": [],
   "source": [
    "from coco.coco_eval_tool import COCOEvalTool\n",
    "from typing import List\n",
    "\n",
    "# Json ground truths - json from cvat. List of paths to json.\n",
    "json_gts: List[str] = []\n",
    "\n",
    "# Json ground detections - json from model detection. List of paths to json.\n",
    "json_gds: List[str] = []\n",
    "\n",
    "# Output file path of evaluations that will be stored as one txt file\n",
    "output_file: str = 'coco/results/output_data.txt'\n",
    "\n",
    "\n",
    "eval_tool = COCOEvalTool(\n",
    "    json_gds=json_gds,\n",
    "    json_gts=json_gts\n",
    ")"
   ]
  },
  {
   "cell_type": "markdown",
   "metadata": {},
   "source": [
    "##### Evaluation of model by list of json files"
   ]
  },
  {
   "cell_type": "code",
   "execution_count": 6,
   "metadata": {},
   "outputs": [
    {
     "name": "stdout",
     "output_type": "stream",
     "text": [
      "\n"
     ]
    }
   ],
   "source": [
    "eval_tool.evaluate_by_list_json_files(output_file)\n",
    "\n",
    "# Displaying results of evaluation as one long '.txt' file\n",
    "COCOEvalTool.display_txt_file(output_file)"
   ]
  },
  {
   "cell_type": "markdown",
   "metadata": {},
   "source": [
    "##### Displaying results of Evaluation based on .txt received in Evaluation"
   ]
  },
  {
   "cell_type": "code",
   "execution_count": 3,
   "metadata": {},
   "outputs": [],
   "source": [
    "eval_tool.display_average_coco_metrics(output_file)"
   ]
  }
 ],
 "metadata": {
  "kernelspec": {
   "display_name": ".venv",
   "language": "python",
   "name": "python3"
  },
  "language_info": {
   "codemirror_mode": {
    "name": "ipython",
    "version": 3
   },
   "file_extension": ".py",
   "mimetype": "text/x-python",
   "name": "python",
   "nbconvert_exporter": "python",
   "pygments_lexer": "ipython3",
   "version": "3.12.0"
  }
 },
 "nbformat": 4,
 "nbformat_minor": 2
}
